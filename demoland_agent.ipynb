{
 "cells": [
  {
   "cell_type": "code",
   "execution_count": 136,
   "id": "af509edd-18a9-4d13-b73c-834f70dffae7",
   "metadata": {},
   "outputs": [
    {
     "data": {
      "text/plain": [
       "True"
      ]
     },
     "execution_count": 136,
     "metadata": {},
     "output_type": "execute_result"
    }
   ],
   "source": [
    "import pandas as pd \n",
    "import geopandas as gp\n",
    "import os \n",
    "import json\n",
    "from dotenv import load_dotenv\n",
    "load_dotenv()\n"
   ]
  },
  {
   "cell_type": "code",
   "execution_count": 137,
   "id": "43f6bf33-7115-42b6-bfef-cac87705a607",
   "metadata": {},
   "outputs": [],
   "source": [
    "with open(\"./data/pen_portraits.json\") as f:\n",
    "    sig_descriptions = json.load(f)"
   ]
  },
  {
   "cell_type": "code",
   "execution_count": 17,
   "id": "1b003f39-fd8f-4db2-a427-1e8f47b6dcc7",
   "metadata": {},
   "outputs": [],
   "source": [
    "signatures = gp.read_file(\"./data/spatial_signatures_GB.gpkg\")"
   ]
  },
  {
   "cell_type": "code",
   "execution_count": 68,
   "id": "9063140a-c419-4db1-ad78-9d92091a3a73",
   "metadata": {},
   "outputs": [],
   "source": [
    "regions = gp.read_file(\"./data/counties.geojson\")"
   ]
  },
  {
   "cell_type": "code",
   "execution_count": 85,
   "id": "b548ea58-4e0a-4c05-93b7-619d94ccfa47",
   "metadata": {},
   "outputs": [],
   "source": [
    "regions[\"name\"] = [val[0] for val in regions[\"ctyua_name\"].values]"
   ]
  },
  {
   "cell_type": "code",
   "execution_count": 106,
   "id": "ff3902c2-edec-49b2-81d0-97ac42162923",
   "metadata": {},
   "outputs": [],
   "source": [
    "regions = regions.to_crs(\"EPSG:4326\")\n",
    "signatures = signatures.to_crs(\"EPSG:4326\")"
   ]
  },
  {
   "cell_type": "code",
   "execution_count": 115,
   "id": "e0d84d45-10cc-4795-9088-905ef3e1b358",
   "metadata": {},
   "outputs": [],
   "source": [
    "sig_types = signatures[\"type\"].value_counts()\n"
   ]
  },
  {
   "cell_type": "code",
   "execution_count": 131,
   "id": "4ffce58f-1354-42fd-90ee-30df308dc0ec",
   "metadata": {},
   "outputs": [
    {
     "data": {
      "text/html": [
       "<div>\n",
       "<style scoped>\n",
       "    .dataframe tbody tr th:only-of-type {\n",
       "        vertical-align: middle;\n",
       "    }\n",
       "\n",
       "    .dataframe tbody tr th {\n",
       "        vertical-align: top;\n",
       "    }\n",
       "\n",
       "    .dataframe thead th {\n",
       "        text-align: right;\n",
       "    }\n",
       "</style>\n",
       "<table border=\"1\" class=\"dataframe\">\n",
       "  <thead>\n",
       "    <tr style=\"text-align: right;\">\n",
       "      <th></th>\n",
       "      <th>geo_point_2d</th>\n",
       "      <th>year</th>\n",
       "      <th>ctry_code</th>\n",
       "      <th>ctry_name</th>\n",
       "      <th>rgn_code</th>\n",
       "      <th>rgn_name</th>\n",
       "      <th>ctyua_code</th>\n",
       "      <th>ctyua_name</th>\n",
       "      <th>ctyua_area_code</th>\n",
       "      <th>ctyua_type</th>\n",
       "      <th>geometry</th>\n",
       "      <th>name</th>\n",
       "    </tr>\n",
       "  </thead>\n",
       "  <tbody>\n",
       "    <tr>\n",
       "      <th>0</th>\n",
       "      <td>{'lon': -1.966260152807215, 'lat': 52.59924081...</td>\n",
       "      <td>2022</td>\n",
       "      <td>[E92000001]</td>\n",
       "      <td>[England]</td>\n",
       "      <td>[E12000005]</td>\n",
       "      <td>[West Midlands]</td>\n",
       "      <td>[E08000030]</td>\n",
       "      <td>[Walsall]</td>\n",
       "      <td>GBR</td>\n",
       "      <td>metropolitan district</td>\n",
       "      <td>POLYGON ((-1.87257 52.58493, -1.87549 52.58585...</td>\n",
       "      <td>Walsall</td>\n",
       "    </tr>\n",
       "    <tr>\n",
       "      <th>1</th>\n",
       "      <td>{'lon': -1.8789397607334983, 'lat': 50.7495754...</td>\n",
       "      <td>2022</td>\n",
       "      <td>[E92000001]</td>\n",
       "      <td>[England]</td>\n",
       "      <td>[E12000009]</td>\n",
       "      <td>[South West]</td>\n",
       "      <td>[E06000058]</td>\n",
       "      <td>[Bournemouth, Christchurch and Poole]</td>\n",
       "      <td>GBR</td>\n",
       "      <td>unitary authority</td>\n",
       "      <td>MULTIPOLYGON (((-2.00021 50.73032, -2.00297 50...</td>\n",
       "      <td>Bournemouth</td>\n",
       "    </tr>\n",
       "    <tr>\n",
       "      <th>2</th>\n",
       "      <td>{'lon': -2.119264589844318, 'lat': 51.82752090...</td>\n",
       "      <td>2022</td>\n",
       "      <td>[E92000001]</td>\n",
       "      <td>[England]</td>\n",
       "      <td>[E12000009]</td>\n",
       "      <td>[South West]</td>\n",
       "      <td>[E10000013]</td>\n",
       "      <td>[Gloucestershire]</td>\n",
       "      <td>GBR</td>\n",
       "      <td>county</td>\n",
       "      <td>POLYGON ((-1.66577 51.98748, -1.66929 51.98921...</td>\n",
       "      <td>Gloucestershire</td>\n",
       "    </tr>\n",
       "    <tr>\n",
       "      <th>3</th>\n",
       "      <td>{'lon': -2.6308440365947634, 'lat': 57.2414618...</td>\n",
       "      <td>2022</td>\n",
       "      <td>[S92000003]</td>\n",
       "      <td>[Scotland]</td>\n",
       "      <td>[S92000003]</td>\n",
       "      <td>[Scotland]</td>\n",
       "      <td>[S12000034]</td>\n",
       "      <td>[Aberdeenshire]</td>\n",
       "      <td>GBR</td>\n",
       "      <td>council area</td>\n",
       "      <td>POLYGON ((-2.06138 57.21195, -2.05864 57.21801...</td>\n",
       "      <td>Aberdeenshire</td>\n",
       "    </tr>\n",
       "    <tr>\n",
       "      <th>4</th>\n",
       "      <td>{'lon': -0.15743534194660444, 'lat': 51.546422...</td>\n",
       "      <td>2022</td>\n",
       "      <td>[E92000001]</td>\n",
       "      <td>[England]</td>\n",
       "      <td>[E12000007]</td>\n",
       "      <td>[London]</td>\n",
       "      <td>[E09000007]</td>\n",
       "      <td>[Camden]</td>\n",
       "      <td>GBR</td>\n",
       "      <td>London borough</td>\n",
       "      <td>POLYGON ((-0.14242 51.56912, -0.15035 51.57157...</td>\n",
       "      <td>Camden</td>\n",
       "    </tr>\n",
       "    <tr>\n",
       "      <th>...</th>\n",
       "      <td>...</td>\n",
       "      <td>...</td>\n",
       "      <td>...</td>\n",
       "      <td>...</td>\n",
       "      <td>...</td>\n",
       "      <td>...</td>\n",
       "      <td>...</td>\n",
       "      <td>...</td>\n",
       "      <td>...</td>\n",
       "      <td>...</td>\n",
       "      <td>...</td>\n",
       "      <td>...</td>\n",
       "    </tr>\n",
       "    <tr>\n",
       "      <th>212</th>\n",
       "      <td>{'lon': -2.128086076696361, 'lat': 53.39390485...</td>\n",
       "      <td>2022</td>\n",
       "      <td>[E92000001]</td>\n",
       "      <td>[England]</td>\n",
       "      <td>[E12000002]</td>\n",
       "      <td>[North West]</td>\n",
       "      <td>[E08000007]</td>\n",
       "      <td>[Stockport]</td>\n",
       "      <td>GBR</td>\n",
       "      <td>metropolitan district</td>\n",
       "      <td>POLYGON ((-2.02626 53.42985, -2.03000 53.42858...</td>\n",
       "      <td>Stockport</td>\n",
       "    </tr>\n",
       "    <tr>\n",
       "      <th>213</th>\n",
       "      <td>{'lon': -3.8104486660400902, 'lat': 50.7615297...</td>\n",
       "      <td>2022</td>\n",
       "      <td>[E92000001]</td>\n",
       "      <td>[England]</td>\n",
       "      <td>[E12000009]</td>\n",
       "      <td>[South West]</td>\n",
       "      <td>[E10000008]</td>\n",
       "      <td>[Devon]</td>\n",
       "      <td>GBR</td>\n",
       "      <td>county</td>\n",
       "      <td>MULTIPOLYGON (((-3.89956 50.28099, -3.90292 50...</td>\n",
       "      <td>Devon</td>\n",
       "    </tr>\n",
       "    <tr>\n",
       "      <th>214</th>\n",
       "      <td>{'lon': 0.03340335964739762, 'lat': 52.3397663...</td>\n",
       "      <td>2022</td>\n",
       "      <td>[E92000001]</td>\n",
       "      <td>[England]</td>\n",
       "      <td>[E12000006]</td>\n",
       "      <td>[East of England]</td>\n",
       "      <td>[E10000003]</td>\n",
       "      <td>[Cambridgeshire]</td>\n",
       "      <td>GBR</td>\n",
       "      <td>county</td>\n",
       "      <td>MULTIPOLYGON (((0.24554 52.50057, 0.23877 52.5...</td>\n",
       "      <td>Cambridgeshire</td>\n",
       "    </tr>\n",
       "    <tr>\n",
       "      <th>215</th>\n",
       "      <td>{'lon': -2.370149281985918, 'lat': 53.48951471...</td>\n",
       "      <td>2022</td>\n",
       "      <td>[E92000001]</td>\n",
       "      <td>[England]</td>\n",
       "      <td>[E12000002]</td>\n",
       "      <td>[North West]</td>\n",
       "      <td>[E08000006]</td>\n",
       "      <td>[Salford]</td>\n",
       "      <td>GBR</td>\n",
       "      <td>metropolitan district</td>\n",
       "      <td>POLYGON ((-2.33820 53.53360, -2.34297 53.53681...</td>\n",
       "      <td>Salford</td>\n",
       "    </tr>\n",
       "    <tr>\n",
       "      <th>216</th>\n",
       "      <td>{'lon': 0.22113092467276918, 'lat': 51.5643854...</td>\n",
       "      <td>2022</td>\n",
       "      <td>[E92000001]</td>\n",
       "      <td>[England]</td>\n",
       "      <td>[E12000007]</td>\n",
       "      <td>[London]</td>\n",
       "      <td>[E09000016]</td>\n",
       "      <td>[Havering]</td>\n",
       "      <td>GBR</td>\n",
       "      <td>London borough</td>\n",
       "      <td>POLYGON ((0.31301 51.56582, 0.29026 51.56430, ...</td>\n",
       "      <td>Havering</td>\n",
       "    </tr>\n",
       "  </tbody>\n",
       "</table>\n",
       "<p>217 rows × 12 columns</p>\n",
       "</div>"
      ],
      "text/plain": [
       "                                          geo_point_2d  year    ctry_code  \\\n",
       "0    {'lon': -1.966260152807215, 'lat': 52.59924081...  2022  [E92000001]   \n",
       "1    {'lon': -1.8789397607334983, 'lat': 50.7495754...  2022  [E92000001]   \n",
       "2    {'lon': -2.119264589844318, 'lat': 51.82752090...  2022  [E92000001]   \n",
       "3    {'lon': -2.6308440365947634, 'lat': 57.2414618...  2022  [S92000003]   \n",
       "4    {'lon': -0.15743534194660444, 'lat': 51.546422...  2022  [E92000001]   \n",
       "..                                                 ...   ...          ...   \n",
       "212  {'lon': -2.128086076696361, 'lat': 53.39390485...  2022  [E92000001]   \n",
       "213  {'lon': -3.8104486660400902, 'lat': 50.7615297...  2022  [E92000001]   \n",
       "214  {'lon': 0.03340335964739762, 'lat': 52.3397663...  2022  [E92000001]   \n",
       "215  {'lon': -2.370149281985918, 'lat': 53.48951471...  2022  [E92000001]   \n",
       "216  {'lon': 0.22113092467276918, 'lat': 51.5643854...  2022  [E92000001]   \n",
       "\n",
       "      ctry_name     rgn_code           rgn_name   ctyua_code  \\\n",
       "0     [England]  [E12000005]    [West Midlands]  [E08000030]   \n",
       "1     [England]  [E12000009]       [South West]  [E06000058]   \n",
       "2     [England]  [E12000009]       [South West]  [E10000013]   \n",
       "3    [Scotland]  [S92000003]         [Scotland]  [S12000034]   \n",
       "4     [England]  [E12000007]           [London]  [E09000007]   \n",
       "..          ...          ...                ...          ...   \n",
       "212   [England]  [E12000002]       [North West]  [E08000007]   \n",
       "213   [England]  [E12000009]       [South West]  [E10000008]   \n",
       "214   [England]  [E12000006]  [East of England]  [E10000003]   \n",
       "215   [England]  [E12000002]       [North West]  [E08000006]   \n",
       "216   [England]  [E12000007]           [London]  [E09000016]   \n",
       "\n",
       "                                ctyua_name ctyua_area_code  \\\n",
       "0                                [Walsall]             GBR   \n",
       "1    [Bournemouth, Christchurch and Poole]             GBR   \n",
       "2                        [Gloucestershire]             GBR   \n",
       "3                          [Aberdeenshire]             GBR   \n",
       "4                                 [Camden]             GBR   \n",
       "..                                     ...             ...   \n",
       "212                            [Stockport]             GBR   \n",
       "213                                [Devon]             GBR   \n",
       "214                       [Cambridgeshire]             GBR   \n",
       "215                              [Salford]             GBR   \n",
       "216                             [Havering]             GBR   \n",
       "\n",
       "                ctyua_type                                           geometry  \\\n",
       "0    metropolitan district  POLYGON ((-1.87257 52.58493, -1.87549 52.58585...   \n",
       "1        unitary authority  MULTIPOLYGON (((-2.00021 50.73032, -2.00297 50...   \n",
       "2                   county  POLYGON ((-1.66577 51.98748, -1.66929 51.98921...   \n",
       "3             council area  POLYGON ((-2.06138 57.21195, -2.05864 57.21801...   \n",
       "4           London borough  POLYGON ((-0.14242 51.56912, -0.15035 51.57157...   \n",
       "..                     ...                                                ...   \n",
       "212  metropolitan district  POLYGON ((-2.02626 53.42985, -2.03000 53.42858...   \n",
       "213                 county  MULTIPOLYGON (((-3.89956 50.28099, -3.90292 50...   \n",
       "214                 county  MULTIPOLYGON (((0.24554 52.50057, 0.23877 52.5...   \n",
       "215  metropolitan district  POLYGON ((-2.33820 53.53360, -2.34297 53.53681...   \n",
       "216         London borough  POLYGON ((0.31301 51.56582, 0.29026 51.56430, ...   \n",
       "\n",
       "                name  \n",
       "0            Walsall  \n",
       "1        Bournemouth  \n",
       "2    Gloucestershire  \n",
       "3      Aberdeenshire  \n",
       "4             Camden  \n",
       "..               ...  \n",
       "212        Stockport  \n",
       "213            Devon  \n",
       "214   Cambridgeshire  \n",
       "215          Salford  \n",
       "216         Havering  \n",
       "\n",
       "[217 rows x 12 columns]"
      ]
     },
     "execution_count": 131,
     "metadata": {},
     "output_type": "execute_result"
    }
   ],
   "source": [
    "regions"
   ]
  },
  {
   "cell_type": "code",
   "execution_count": 8,
   "id": "f052b312-9c19-4326-918c-5ffa1b2c5c0b",
   "metadata": {},
   "outputs": [],
   "source": [
    "from langchain_openai import ChatOpenAI\n",
    "from langchain.agents import tool\n",
    "\n",
    "llm = ChatOpenAI(model=\"gpt-3.5-turbo\", temperature=0)"
   ]
  },
  {
   "cell_type": "code",
   "execution_count": 87,
   "id": "26155837-6ed7-4c6c-92f7-04a90cda6c68",
   "metadata": {},
   "outputs": [],
   "source": [
    "@tool\n",
    "def get_spatial_signature_list():\n",
    "    \"\"\"Returns the names and counts of each spatial signature\"\"\"\n",
    "    return sig_types.to_csv()"
   ]
  },
  {
   "cell_type": "code",
   "execution_count": 138,
   "id": "53aa52aa-2466-4911-9ab9-f6777dfe0441",
   "metadata": {},
   "outputs": [],
   "source": [
    "@tool \n",
    "def signature_descriptions():\n",
    "    \"\"\"Returns the descriptions of each signature as json\"\"\"\n",
    "    return sig_descriptions"
   ]
  },
  {
   "cell_type": "code",
   "execution_count": 88,
   "id": "1d06cf5f-2f58-4ef0-b658-0d34099b9b0b",
   "metadata": {},
   "outputs": [],
   "source": [
    "@tool\n",
    "def get_rergion_names():\n",
    "    \"\"\"Returns a list of regions avaliable to query on\"\"\"\n",
    "    return regions['name'].to_csv()"
   ]
  },
  {
   "cell_type": "code",
   "execution_count": 139,
   "id": "860582a0-2d24-4c72-b7d7-2614e2db959b",
   "metadata": {},
   "outputs": [],
   "source": [
    "@tool\n",
    "def summarize_in_region(region:str):\n",
    "    \"\"\"Summarizes data in a region\"\"\"\n",
    "    region_geo = regions[regions['name']==region]\n",
    "    return gp.sjoin(region_geo,signatures)['type'].value_counts().to_csv()\n",
    "\n",
    "\n",
    "tools = [summarize_in_region, get_spatial_signature_list, get_rergion_names, signature_descriptions]"
   ]
  },
  {
   "cell_type": "code",
   "execution_count": 118,
   "id": "364de71c-d21f-4d4b-9505-12a62170d43c",
   "metadata": {},
   "outputs": [
    {
     "data": {
      "text/plain": [
       "<Axes: >"
      ]
     },
     "execution_count": 118,
     "metadata": {},
     "output_type": "execute_result"
    },
    {
     "data": {
      "image/png": "[encoded data removed]",
      "text/plain": [
       "<Figure size 640x480 with 1 Axes>"
      ]
     },
     "metadata": {},
     "output_type": "display_data"
    }
   ],
   "source": [
    "summarize_in_region(\"Gloucestershire\")"
   ]
  },
  {
   "cell_type": "code",
   "execution_count": 140,
   "id": "6bc816b6-7e2a-435a-9dce-8c857c0114bd",
   "metadata": {},
   "outputs": [],
   "source": [
    "from langchain_core.prompts import ChatPromptTemplate, MessagesPlaceholder\n",
    "MEMORY_KEY = \"chat_history\"\n",
    "prompt = ChatPromptTemplate.from_messages(\n",
    "    [\n",
    "        (\n",
    "            \"system\",\n",
    "            \"You are very powerful geospatial assistant, but don't know current events\",\n",
    "        ),\n",
    "        MessagesPlaceholder(variable_name=MEMORY_KEY),\n",
    "        (\"user\", \"{input}\"),\n",
    "        MessagesPlaceholder(variable_name=\"agent_scratchpad\"),\n",
    "    ]\n",
    ")\n"
   ]
  },
  {
   "cell_type": "code",
   "execution_count": 141,
   "id": "ee75cbb3-b837-4caf-be09-8abfd6ddb47b",
   "metadata": {},
   "outputs": [],
   "source": [
    "from langchain_community.tools.convert_to_openai import format_tool_to_openai_function\n",
    "\n",
    "llm_with_tools = llm.bind(functions=[format_tool_to_openai_function(t) for t in tools])"
   ]
  },
  {
   "cell_type": "code",
   "execution_count": 142,
   "id": "c587540f-14b6-44d2-a413-f6958296ce78",
   "metadata": {},
   "outputs": [],
   "source": [
    "from langchain.agents.format_scratchpad import format_to_openai_function_messages\n",
    "from langchain.agents.output_parsers import OpenAIFunctionsAgentOutputParser\n",
    "\n",
    "chat_history = []\n",
    "\n",
    "agent = (\n",
    "    {\n",
    "        \"input\": lambda x: x[\"input\"],\n",
    "        \"agent_scratchpad\": lambda x: format_to_openai_function_messages(\n",
    "            x[\"intermediate_steps\"]\n",
    "        ),\n",
    "        \"chat_history\": lambda x: x[\"chat_history\"],\n",
    "    }\n",
    "    | prompt\n",
    "    | llm_with_tools\n",
    "    | OpenAIFunctionsAgentOutputParser()\n",
    ")\n",
    "\n",
    "from langchain.agents import AgentExecutor\n",
    "\n",
    "agent_executor = AgentExecutor(agent=agent, tools=tools, verbose=True)\n"
   ]
  },
  {
   "cell_type": "code",
   "execution_count": 150,
   "id": "42f0272d-a629-4051-96b7-898a2ff189f3",
   "metadata": {
    "scrolled": true
   },
   "outputs": [
    {
     "name": "stdout",
     "output_type": "stream",
     "text": [
      "\n",
      "\n",
      "\u001b[1m> Entering new AgentExecutor chain...\u001b[0m\n",
      "\u001b[32;1m\u001b[1;3m\n",
      "Invoking: `summarize_in_region` with `{'region': 'Walsall'}`\n",
      "\n",
      "\n",
      "\u001b[0m\u001b[36;1m\u001b[1;3mtype,count\n",
      "Open sprawl,99\n",
      "Warehouse/Park land,80\n",
      "Disconnected suburbia,67\n",
      "Accessible suburbia,56\n",
      "Connected residential neighbourhoods,55\n",
      "Dense residential neighbourhoods,38\n",
      "Urban buffer,29\n",
      "Dense urban neighbourhoods,10\n",
      "Local urbanity,10\n",
      "Countryside agriculture,7\n",
      "Gridded residential quarters,4\n",
      "\u001b[0m\u001b[32;1m\u001b[1;3m\n",
      "Invoking: `summarize_in_region` with `{'region': 'Devon'}`\n",
      "\n",
      "\n",
      "\u001b[0m\u001b[36;1m\u001b[1;3mtype,count\n",
      "Wild countryside,572\n",
      "Countryside agriculture,274\n",
      "Urban buffer,246\n",
      "Open sprawl,245\n",
      "Disconnected suburbia,145\n",
      "Accessible suburbia,112\n",
      "Warehouse/Park land,82\n",
      "Dense residential neighbourhoods,82\n",
      "Gridded residential quarters,50\n",
      "Dense urban neighbourhoods,24\n",
      "Local urbanity,19\n",
      "Connected residential neighbourhoods,6\n",
      "Regional urbanity,2\n",
      "Metropolitan urbanity,1\n",
      "\u001b[0m\u001b[32;1m\u001b[1;3mThe main difference between Walsall and Devon can be seen in the distribution of their spatial signatures. \n",
      "\n",
      "In Walsall, the most common spatial signature is \"Open sprawl\" with a count of 99. This suggests that there is a significant amount of open and undeveloped land in Walsall. The next most common signature is \"Warehouse/Park land\" with a count of 80, indicating the presence of industrial or commercial areas. Other common signatures in Walsall include \"Disconnected suburbia\" (67), \"Accessible suburbia\" (56), and \"Connected residential neighbourhoods\" (55).\n",
      "\n",
      "On the other hand, in Devon, the most common spatial signature is \"Wild countryside\" with a count of 572. This suggests that Devon has a large amount of natural and undeveloped countryside areas. The next most common signature is \"Countryside agriculture\" with a count of 274, indicating the presence of agricultural land. Other common signatures in Devon include \"Urban buffer\" (246), \"Open sprawl\" (245), and \"Disconnected suburbia\" (145).\n",
      "\n",
      "Overall, Walsall seems to have a higher concentration of urban and industrial areas compared to Devon, which has a larger proportion of natural and agricultural land.\u001b[0m\n",
      "\n",
      "\u001b[1m> Finished chain.\u001b[0m\n"
     ]
    },
    {
     "data": {
      "text/plain": [
       "'The main difference between Walsall and Devon can be seen in the distribution of their spatial signatures. \\n\\nIn Walsall, the most common spatial signature is \"Open sprawl\" with a count of 99. This suggests that there is a significant amount of open and undeveloped land in Walsall. The next most common signature is \"Warehouse/Park land\" with a count of 80, indicating the presence of industrial or commercial areas. Other common signatures in Walsall include \"Disconnected suburbia\" (67), \"Accessible suburbia\" (56), and \"Connected residential neighbourhoods\" (55).\\n\\nOn the other hand, in Devon, the most common spatial signature is \"Wild countryside\" with a count of 572. This suggests that Devon has a large amount of natural and undeveloped countryside areas. The next most common signature is \"Countryside agriculture\" with a count of 274, indicating the presence of agricultural land. Other common signatures in Devon include \"Urban buffer\" (246), \"Open sprawl\" (245), and \"Disconnected suburbia\" (145).\\n\\nOverall, Walsall seems to have a higher concentration of urban and industrial areas compared to Devon, which has a larger proportion of natural and agricultural land.'"
      ]
     },
     "execution_count": 150,
     "metadata": {},
     "output_type": "execute_result"
    }
   ],
   "source": [
    "result = agent_executor.invoke({\"input\": \"Describe the difference between Walsall and Devon\",\"chat_history\": chat_history})\n",
    "result[\"output\"]"
   ]
  },
  {
   "cell_type": "code",
   "execution_count": 151,
   "id": "7e58998c-d116-4ca4-acd8-948146e7c430",
   "metadata": {},
   "outputs": [
    {
     "name": "stdout",
     "output_type": "stream",
     "text": [
      "The main difference between Walsall and Devon can be seen in the distribution of their spatial signatures. \n",
      "\n",
      "In Walsall, the most common spatial signature is \"Open sprawl\" with a count of 99. This suggests that there is a significant amount of open and undeveloped land in Walsall. The next most common signature is \"Warehouse/Park land\" with a count of 80, indicating the presence of industrial or commercial areas. Other common signatures in Walsall include \"Disconnected suburbia\" (67), \"Accessible suburbia\" (56), and \"Connected residential neighbourhoods\" (55).\n",
      "\n",
      "On the other hand, in Devon, the most common spatial signature is \"Wild countryside\" with a count of 572. This suggests that Devon has a large amount of natural and undeveloped countryside areas. The next most common signature is \"Countryside agriculture\" with a count of 274, indicating the presence of agricultural land. Other common signatures in Devon include \"Urban buffer\" (246), \"Open sprawl\" (245), and \"Disconnected suburbia\" (145).\n",
      "\n",
      "Overall, Walsall seems to have a higher concentration of urban and industrial areas compared to Devon, which has a larger proportion of natural and agricultural land.\n"
     ]
    }
   ],
   "source": [
    "print(result[\"output\"])"
   ]
  },
  {
   "cell_type": "code",
   "execution_count": 149,
   "id": "8879231f-8fa3-472b-bdcc-309443359338",
   "metadata": {},
   "outputs": [
    {
     "name": "stdout",
     "output_type": "stream",
     "text": [
      "\n",
      "\n",
      "\u001b[1m> Entering new AgentExecutor chain...\u001b[0m\n",
      "\u001b[32;1m\u001b[1;3m\n",
      "Invoking: `summarize_in_region` with `{'region': 'Devon'}`\n",
      "\n",
      "\n",
      "\u001b[0m\u001b[36;1m\u001b[1;3mtype,count\n",
      "Wild countryside,572\n",
      "Countryside agriculture,274\n",
      "Urban buffer,246\n",
      "Open sprawl,245\n",
      "Disconnected suburbia,145\n",
      "Accessible suburbia,112\n",
      "Warehouse/Park land,82\n",
      "Dense residential neighbourhoods,82\n",
      "Gridded residential quarters,50\n",
      "Dense urban neighbourhoods,24\n",
      "Local urbanity,19\n",
      "Connected residential neighbourhoods,6\n",
      "Regional urbanity,2\n",
      "Metropolitan urbanity,1\n",
      "\u001b[0m\u001b[32;1m\u001b[1;3m\n",
      "Invoking: `summarize_in_region` with `{'region': 'Camden'}`\n",
      "\n",
      "\n",
      "\u001b[0m\u001b[36;1m\u001b[1;3mtype,count\n",
      "Local urbanity,38\n",
      "Dense urban neighbourhoods,14\n",
      "Regional urbanity,7\n",
      "Connected residential neighbourhoods,7\n",
      "Warehouse/Park land,5\n",
      "Dense residential neighbourhoods,3\n",
      "Metropolitan urbanity,2\n",
      "Concentrated urbanity,2\n",
      "Hyper concentrated urbanity,1\n",
      "Open sprawl,1\n",
      "\u001b[0m\u001b[32;1m\u001b[1;3mBased on the spatial signatures, Devon is more rural than Camden. Devon has a higher count of rural signatures such as \"Wild countryside\" and \"Countryside agriculture\" compared to Camden. Camden, on the other hand, has a higher count of urban signatures such as \"Local urbanity\" and \"Dense urban neighbourhoods\".\u001b[0m\n",
      "\n",
      "\u001b[1m> Finished chain.\u001b[0m\n"
     ]
    },
    {
     "data": {
      "text/plain": [
       "'Based on the spatial signatures, Devon is more rural than Camden. Devon has a higher count of rural signatures such as \"Wild countryside\" and \"Countryside agriculture\" compared to Camden. Camden, on the other hand, has a higher count of urban signatures such as \"Local urbanity\" and \"Dense urban neighbourhoods\".'"
      ]
     },
     "execution_count": 149,
     "metadata": {},
     "output_type": "execute_result"
    }
   ],
   "source": [
    "result = agent_executor.invoke({\"input\": \"Using the spatial signatures, answer the question, is Devon more Rural than Camden?\",\"chat_history\": chat_history})\n",
    "result[\"output\"]"
   ]
  },
  {
   "cell_type": "code",
   "execution_count": 67,
   "id": "5020750d-ba35-47c1-842f-e8ad11c8d665",
   "metadata": {},
   "outputs": [
    {
     "name": "stdout",
     "output_type": "stream",
     "text": [
      "\n",
      "\n",
      "\u001b[1m> Entering new AgentExecutor chain...\u001b[0m\n",
      "\u001b[32;1m\u001b[1;3m\n",
      "Invoking: `get_spatial_signature_list` with `{}`\n",
      "\n",
      "\n",
      "\u001b[0m\u001b[33;1m\u001b[1;3mtype,count\n",
      "Open sprawl,17357\n",
      "Accessible suburbia,10919\n",
      "Countryside agriculture,10882\n",
      "Warehouse/Park land,10675\n",
      "Urban buffer,10636\n",
      "Disconnected suburbia,9418\n",
      "Dense residential neighbourhoods,6815\n",
      "Wild countryside,6214\n",
      "Connected residential neighbourhoods,5802\n",
      "Dense urban neighbourhoods,3344\n",
      "Gridded residential quarters,2561\n",
      "Local urbanity,1598\n",
      "Regional urbanity,316\n",
      "Metropolitan urbanity,135\n",
      "outlier,15\n",
      "Concentrated urbanity,11\n",
      "Hyper concentrated urbanity,6\n",
      "\u001b[0m\u001b[32;1m\u001b[1;3mThe least common spatial signature is \"Hyper concentrated urbanity\" with a count of 6.\u001b[0m\n",
      "\n",
      "\u001b[1m> Finished chain.\u001b[0m\n"
     ]
    },
    {
     "data": {
      "text/plain": [
       "{'input': 'how about the lest common',\n",
       " 'chat_history': [],\n",
       " 'output': 'The least common spatial signature is \"Hyper concentrated urbanity\" with a count of 6.'}"
      ]
     },
     "execution_count": 67,
     "metadata": {},
     "output_type": "execute_result"
    }
   ],
   "source": [
    "\n",
    "agent_executor.invoke({\"input\": \"how about the lest common\", \"chat_history\":chat_history})"
   ]
  },
  {
   "cell_type": "code",
   "execution_count": null,
   "id": "bded6caa-17a4-4644-961d-f1d160554872",
   "metadata": {},
   "outputs": [],
   "source": []
  }
 ],
 "metadata": {
  "kernelspec": {
   "display_name": "Python 3 (ipykernel)",
   "language": "python",
   "name": "python3"
  },
  "language_info": {
   "codemirror_mode": {
    "name": "ipython",
    "version": 3
   },
   "file_extension": ".py",
   "mimetype": "text/x-python",
   "name": "python",
   "nbconvert_exporter": "python",
   "pygments_lexer": "ipython3",
   "version": "3.11.6"
  }
 },
 "nbformat": 4,
 "nbformat_minor": 5
}
